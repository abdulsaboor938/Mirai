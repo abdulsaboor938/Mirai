{
 "cells": [
  {
   "cell_type": "code",
   "execution_count": 13,
   "metadata": {},
   "outputs": [],
   "source": [
    "try:\n",
    "    from neuralprophet import NeuralProphet, set_log_level\n",
    "    set_log_level(\"ERROR\")\n",
    "except:\n",
    "    !pip install neuralprophet\n",
    "    from neuralprophet import NeuralProphet, set_log_level\n",
    "    set_log_level(\"ERROR\")\n",
    "\n",
    "try:\n",
    "    import time\n",
    "except:\n",
    "    !pip install time\n",
    "    import time\n",
    "\n",
    "try:\n",
    "    import pandas as pd\n",
    "except:\n",
    "    !pip install pandas\n",
    "    import pandas as pd\n",
    "\n",
    "try:\n",
    "    import numpy as np\n",
    "except:\n",
    "    !pip install numpy\n",
    "    import numpy as np\n",
    "    \n",
    "try:\n",
    "    import warnings\n",
    "    warnings.filterwarnings('ignore')\n",
    "except:\n",
    "    !pip install warnings\n",
    "    warnings.filterwarnings('ignore')\n",
    "\n",
    "try:\n",
    "    import os\n",
    "except:\n",
    "    !pip install os\n",
    "    import os\n",
    "\n",
    "### function starts here\n",
    "def training(zone,temp):\n",
    "    \n",
    "    df = temp.copy()\n",
    "    df = df[df['zone'] == zone]\n",
    "\n",
    "    df['ds'] = pd.to_datetime(df['date'])\n",
    "\n",
    "    # get the last date\n",
    "    last_date = df['ds'].max()\n",
    "    # print(last_date)\n",
    "\n",
    "    # convert this date to epoch\n",
    "    last_date_epoch = (last_date.value // 10**9) + 3600\n",
    "    # print(last_date_epoch)\n",
    "\n",
    "    # get current epoch\n",
    "    import time\n",
    "    current_epoch = int(time.time())\n",
    "    # print(current_epoch)\n",
    "\n",
    "    # add 7 days to current epoch\n",
    "    future_epoch = current_epoch + 7 * 24 * 60 * 60\n",
    "    # print(future_epoch)\n",
    "\n",
    "    df_future = pd.DataFrame(np.arange(last_date_epoch, future_epoch, 60 * 60), columns=['timestamp'])\n",
    "    df_future['ds'] = pd.to_datetime(df_future['timestamp'], unit='s')\n",
    "    df_future.drop(['timestamp'], axis=1, inplace=True)\n",
    "    df_future.head()\n",
    "    df_future['zone'] = df['zone'].iloc[0]\n",
    "    df_future['longitude'] = df['longitude'].iloc[0]\n",
    "    df_future['latitude'] = df['latitude'].iloc[0]\n",
    "    df_future.head()\n",
    "\n",
    "\n",
    "    ### Temperature\n",
    "    training_data = df[['ds']]\n",
    "    training_data['y'] = df['temperature']\n",
    "    training_data.reset_index(inplace=True, drop=True)\n",
    "\n",
    "    # predicitng temperature by multiplicative model\n",
    "    from neuralprophet import NeuralProphet, set_log_level, df_utils\n",
    "    set_log_level(\"ERROR\")\n",
    "    m = NeuralProphet(\n",
    "        changepoints_range=0.95,\n",
    "        n_changepoints=24,\n",
    "        trend_reg=1,\n",
    "        weekly_seasonality=False,\n",
    "        daily_seasonality=1,\n",
    "        seasonality_mode=\"multiplicative\",\n",
    "    )\n",
    "    m.set_plotting_backend(\"matplotlib\")\n",
    "    metrics = m.fit(training_data, freq=\"60min\")\n",
    "    future = m.make_future_dataframe(training_data, periods=len(df_future), n_historic_predictions=True)\n",
    "    forecast = m.predict(future)\n",
    "    df_future['temperature'] = forecast.tail(len(df_future))['yhat1'].values\n",
    "    print('temperature done')\n",
    "\n",
    "\n",
    "    ### PM2_5\n",
    "    training_data = df[['ds']]\n",
    "    training_data['y'] = df['pm2_5']\n",
    "    training_data.reset_index(inplace=True, drop=True)\n",
    "    # predicitng temperature by multiplicative model\n",
    "    m = NeuralProphet(\n",
    "        changepoints_range=0.95,\n",
    "        n_changepoints=24,\n",
    "        trend_reg=1,\n",
    "        weekly_seasonality=False,\n",
    "        daily_seasonality=1,\n",
    "        seasonality_mode=\"multiplicative\",\n",
    "    )\n",
    "    m.set_plotting_backend(\"matplotlib\")\n",
    "    metrics = m.fit(training_data, freq=\"60min\")\n",
    "    future = m.make_future_dataframe(training_data, periods=len(df_future), n_historic_predictions=True)\n",
    "    forecast = m.predict(future)\n",
    "    df_future['pm2_5'] = forecast.tail(len(df_future))['yhat1'].values\n",
    "    print('pm2_5 done')\n",
    "\n",
    "\n",
    "    ### PM10\n",
    "    training_data = df[['ds']]\n",
    "    training_data['y'] = df['pm10']\n",
    "    training_data.reset_index(inplace=True, drop=True)\n",
    "\n",
    "    # predicitng temperature by multiplicative model\n",
    "    m = NeuralProphet(\n",
    "        changepoints_range=0.95,\n",
    "        n_changepoints=24,\n",
    "        trend_reg=1,\n",
    "        weekly_seasonality=False,\n",
    "        daily_seasonality=1,\n",
    "        seasonality_mode=\"multiplicative\",\n",
    "    )\n",
    "    m.set_plotting_backend(\"matplotlib\")\n",
    "    metrics = m.fit(training_data, freq=\"60min\")\n",
    "    future = m.make_future_dataframe(training_data, periods=len(df_future), n_historic_predictions=True)\n",
    "    forecast = m.predict(future)\n",
    "    df_future['pm10'] = forecast.tail(len(df_future))['yhat1'].values\n",
    "    print('pm10 done')\n",
    "\n",
    "\n",
    "    df_future['smog'] = np.where((df_future['temperature'] < 25) & (df_future['pm10'] > 300), df_future[['pm10', 'pm2_5']].max(axis=1), np.nan)\n",
    "    df_future['ds'] = pd.to_datetime(df_future['ds']).dt.strftime('%B %d, %Y, %I:%M %p')\n",
    "    df_future.columns = ['date', 'zone', 'longitude', 'latitude', 'temperature', 'pm2_5', 'pm10', 'smog']\n",
    "\n",
    "\n",
    "    # create directory if not exists\n",
    "    if not os.path.exists('prediction'):\n",
    "        os.makedirs('prediction')\n",
    "    df_future.to_csv(f'prediction/{zone}.csv', index=False)\n",
    "    \n",
    "    print(f'{zone} done!!')\n",
    "    print('-----------------------')"
   ]
  },
  {
   "cell_type": "code",
   "execution_count": 14,
   "metadata": {},
   "outputs": [],
   "source": [
    "temp = pd.read_csv('raw_data.csv')"
   ]
  },
  {
   "cell_type": "code",
   "execution_count": 15,
   "metadata": {},
   "outputs": [
    {
     "data": {
      "text/html": [
       "<div>\n",
       "<style scoped>\n",
       "    .dataframe tbody tr th:only-of-type {\n",
       "        vertical-align: middle;\n",
       "    }\n",
       "\n",
       "    .dataframe tbody tr th {\n",
       "        vertical-align: top;\n",
       "    }\n",
       "\n",
       "    .dataframe thead th {\n",
       "        text-align: right;\n",
       "    }\n",
       "</style>\n",
       "<table border=\"1\" class=\"dataframe\">\n",
       "  <thead>\n",
       "    <tr style=\"text-align: right;\">\n",
       "      <th></th>\n",
       "      <th>date</th>\n",
       "      <th>zone</th>\n",
       "      <th>longitude</th>\n",
       "      <th>latitude</th>\n",
       "      <th>temperature</th>\n",
       "      <th>pm10</th>\n",
       "      <th>pm2_5</th>\n",
       "      <th>smog</th>\n",
       "    </tr>\n",
       "  </thead>\n",
       "  <tbody>\n",
       "    <tr>\n",
       "      <th>0</th>\n",
       "      <td>January 01, 2021, 12:00 AM</td>\n",
       "      <td>1</td>\n",
       "      <td>41.0193</td>\n",
       "      <td>43.0034</td>\n",
       "      <td>5.5</td>\n",
       "      <td>1.25</td>\n",
       "      <td>1.09</td>\n",
       "      <td>NaN</td>\n",
       "    </tr>\n",
       "    <tr>\n",
       "      <th>1</th>\n",
       "      <td>January 01, 2021, 01:00 AM</td>\n",
       "      <td>1</td>\n",
       "      <td>41.0193</td>\n",
       "      <td>43.0034</td>\n",
       "      <td>4.3</td>\n",
       "      <td>1.26</td>\n",
       "      <td>1.11</td>\n",
       "      <td>NaN</td>\n",
       "    </tr>\n",
       "    <tr>\n",
       "      <th>2</th>\n",
       "      <td>January 01, 2021, 02:00 AM</td>\n",
       "      <td>1</td>\n",
       "      <td>41.0193</td>\n",
       "      <td>43.0034</td>\n",
       "      <td>4.3</td>\n",
       "      <td>1.40</td>\n",
       "      <td>1.24</td>\n",
       "      <td>NaN</td>\n",
       "    </tr>\n",
       "    <tr>\n",
       "      <th>3</th>\n",
       "      <td>January 01, 2021, 03:00 AM</td>\n",
       "      <td>1</td>\n",
       "      <td>41.0193</td>\n",
       "      <td>43.0034</td>\n",
       "      <td>4.2</td>\n",
       "      <td>2.24</td>\n",
       "      <td>2.01</td>\n",
       "      <td>NaN</td>\n",
       "    </tr>\n",
       "    <tr>\n",
       "      <th>4</th>\n",
       "      <td>January 01, 2021, 04:00 AM</td>\n",
       "      <td>1</td>\n",
       "      <td>41.0193</td>\n",
       "      <td>43.0034</td>\n",
       "      <td>4.0</td>\n",
       "      <td>3.28</td>\n",
       "      <td>2.95</td>\n",
       "      <td>NaN</td>\n",
       "    </tr>\n",
       "  </tbody>\n",
       "</table>\n",
       "</div>"
      ],
      "text/plain": [
       "                         date  zone  longitude  latitude  temperature  pm10  \\\n",
       "0  January 01, 2021, 12:00 AM     1    41.0193   43.0034          5.5  1.25   \n",
       "1  January 01, 2021, 01:00 AM     1    41.0193   43.0034          4.3  1.26   \n",
       "2  January 01, 2021, 02:00 AM     1    41.0193   43.0034          4.3  1.40   \n",
       "3  January 01, 2021, 03:00 AM     1    41.0193   43.0034          4.2  2.24   \n",
       "4  January 01, 2021, 04:00 AM     1    41.0193   43.0034          4.0  3.28   \n",
       "\n",
       "   pm2_5  smog  \n",
       "0   1.09   NaN  \n",
       "1   1.11   NaN  \n",
       "2   1.24   NaN  \n",
       "3   2.01   NaN  \n",
       "4   2.95   NaN  "
      ]
     },
     "execution_count": 15,
     "metadata": {},
     "output_type": "execute_result"
    }
   ],
   "source": [
    "temp.head(\n",
    ")"
   ]
  },
  {
   "cell_type": "code",
   "execution_count": 16,
   "metadata": {},
   "outputs": [
    {
     "data": {
      "application/vnd.jupyter.widget-view+json": {
       "model_id": "a473d6abd35943afad55dc83c621d6a5",
       "version_major": 2,
       "version_minor": 0
      },
      "text/plain": [
       "Finding best initial lr:   0%|          | 0/257 [00:00<?, ?it/s]"
      ]
     },
     "metadata": {},
     "output_type": "display_data"
    },
    {
     "data": {
      "application/vnd.jupyter.widget-view+json": {
       "model_id": "3d2badae798a47a8ac9bc0e1b82e92a5",
       "version_major": 2,
       "version_minor": 0
      },
      "text/plain": [
       "Training: 0it [00:00, ?it/s]"
      ]
     },
     "metadata": {},
     "output_type": "display_data"
    },
    {
     "data": {
      "application/vnd.jupyter.widget-view+json": {
       "model_id": "e79d02fc2c3c43859457292c1a1aa553",
       "version_major": 2,
       "version_minor": 0
      },
      "text/plain": [
       "Predicting: 317it [00:00, ?it/s]"
      ]
     },
     "metadata": {},
     "output_type": "display_data"
    },
    {
     "name": "stdout",
     "output_type": "stream",
     "text": [
      "temperature done\n"
     ]
    },
    {
     "data": {
      "application/vnd.jupyter.widget-view+json": {
       "model_id": "665c1a0270cd44bc85b8914f021ceb26",
       "version_major": 2,
       "version_minor": 0
      },
      "text/plain": [
       "Finding best initial lr:   0%|          | 0/257 [00:00<?, ?it/s]"
      ]
     },
     "metadata": {},
     "output_type": "display_data"
    },
    {
     "data": {
      "application/vnd.jupyter.widget-view+json": {
       "model_id": "ea52c6dac89247f986817905d1cd14eb",
       "version_major": 2,
       "version_minor": 0
      },
      "text/plain": [
       "Training: 0it [00:00, ?it/s]"
      ]
     },
     "metadata": {},
     "output_type": "display_data"
    },
    {
     "data": {
      "application/vnd.jupyter.widget-view+json": {
       "model_id": "96519e1a757948ec997cfac0202d5a3a",
       "version_major": 2,
       "version_minor": 0
      },
      "text/plain": [
       "Predicting: 317it [00:00, ?it/s]"
      ]
     },
     "metadata": {},
     "output_type": "display_data"
    },
    {
     "name": "stdout",
     "output_type": "stream",
     "text": [
      "pm2_5 done\n"
     ]
    },
    {
     "data": {
      "application/vnd.jupyter.widget-view+json": {
       "model_id": "7299f99b06c049dfb08e938733d520c3",
       "version_major": 2,
       "version_minor": 0
      },
      "text/plain": [
       "Finding best initial lr:   0%|          | 0/257 [00:00<?, ?it/s]"
      ]
     },
     "metadata": {},
     "output_type": "display_data"
    },
    {
     "data": {
      "application/vnd.jupyter.widget-view+json": {
       "model_id": "14cf73739beb46389dbaadaa431ff2d1",
       "version_major": 2,
       "version_minor": 0
      },
      "text/plain": [
       "Training: 0it [00:00, ?it/s]"
      ]
     },
     "metadata": {},
     "output_type": "display_data"
    },
    {
     "data": {
      "application/vnd.jupyter.widget-view+json": {
       "model_id": "3967d0a3b3604f3daaa44d86f28074f8",
       "version_major": 2,
       "version_minor": 0
      },
      "text/plain": [
       "Predicting: 317it [00:00, ?it/s]"
      ]
     },
     "metadata": {},
     "output_type": "display_data"
    },
    {
     "name": "stdout",
     "output_type": "stream",
     "text": [
      "pm10 done\n",
      "1 done!!\n",
      "-----------------------\n"
     ]
    },
    {
     "data": {
      "application/vnd.jupyter.widget-view+json": {
       "model_id": "eed534cc11a24c6f902efba303670598",
       "version_major": 2,
       "version_minor": 0
      },
      "text/plain": [
       "Finding best initial lr:   0%|          | 0/257 [00:00<?, ?it/s]"
      ]
     },
     "metadata": {},
     "output_type": "display_data"
    },
    {
     "data": {
      "application/vnd.jupyter.widget-view+json": {
       "model_id": "3270852b404f471d9ff6bc314c7a7823",
       "version_major": 2,
       "version_minor": 0
      },
      "text/plain": [
       "Training: 0it [00:00, ?it/s]"
      ]
     },
     "metadata": {},
     "output_type": "display_data"
    },
    {
     "data": {
      "application/vnd.jupyter.widget-view+json": {
       "model_id": "7629a2cc0fd54717b6b0dff78ce57104",
       "version_major": 2,
       "version_minor": 0
      },
      "text/plain": [
       "Predicting: 317it [00:00, ?it/s]"
      ]
     },
     "metadata": {},
     "output_type": "display_data"
    },
    {
     "name": "stdout",
     "output_type": "stream",
     "text": [
      "temperature done\n"
     ]
    },
    {
     "data": {
      "application/vnd.jupyter.widget-view+json": {
       "model_id": "15f504b0aa8b4de28cb14c5ff1bad402",
       "version_major": 2,
       "version_minor": 0
      },
      "text/plain": [
       "Finding best initial lr:   0%|          | 0/257 [00:00<?, ?it/s]"
      ]
     },
     "metadata": {},
     "output_type": "display_data"
    },
    {
     "data": {
      "application/vnd.jupyter.widget-view+json": {
       "model_id": "bbce20d15ef24cc8b242383b86603d37",
       "version_major": 2,
       "version_minor": 0
      },
      "text/plain": [
       "Training: 0it [00:00, ?it/s]"
      ]
     },
     "metadata": {},
     "output_type": "display_data"
    },
    {
     "data": {
      "application/vnd.jupyter.widget-view+json": {
       "model_id": "03887ea1cd5e4ba59d93a5c33f5a8a8b",
       "version_major": 2,
       "version_minor": 0
      },
      "text/plain": [
       "Predicting: 317it [00:00, ?it/s]"
      ]
     },
     "metadata": {},
     "output_type": "display_data"
    },
    {
     "name": "stdout",
     "output_type": "stream",
     "text": [
      "pm2_5 done\n"
     ]
    },
    {
     "data": {
      "application/vnd.jupyter.widget-view+json": {
       "model_id": "606cc2403a204a12b79a46a8f1897d79",
       "version_major": 2,
       "version_minor": 0
      },
      "text/plain": [
       "Finding best initial lr:   0%|          | 0/257 [00:00<?, ?it/s]"
      ]
     },
     "metadata": {},
     "output_type": "display_data"
    },
    {
     "data": {
      "application/vnd.jupyter.widget-view+json": {
       "model_id": "dd9c27172eaf47a5a7d8a22febc6e73f",
       "version_major": 2,
       "version_minor": 0
      },
      "text/plain": [
       "Training: 0it [00:00, ?it/s]"
      ]
     },
     "metadata": {},
     "output_type": "display_data"
    },
    {
     "data": {
      "application/vnd.jupyter.widget-view+json": {
       "model_id": "69f759a7a0ff4cd7a1047570e418c8b5",
       "version_major": 2,
       "version_minor": 0
      },
      "text/plain": [
       "Predicting: 317it [00:00, ?it/s]"
      ]
     },
     "metadata": {},
     "output_type": "display_data"
    },
    {
     "name": "stdout",
     "output_type": "stream",
     "text": [
      "pm10 done\n",
      "2 done!!\n",
      "-----------------------\n"
     ]
    }
   ],
   "source": [
    "# for i in range(1,249):\n",
    "for i in range(1,3):\n",
    "    training(i,temp)"
   ]
  }
 ],
 "metadata": {
  "kernelspec": {
   "display_name": "tensorflow",
   "language": "python",
   "name": "python3"
  },
  "language_info": {
   "codemirror_mode": {
    "name": "ipython",
    "version": 3
   },
   "file_extension": ".py",
   "mimetype": "text/x-python",
   "name": "python",
   "nbconvert_exporter": "python",
   "pygments_lexer": "ipython3",
   "version": "3.10.10"
  },
  "orig_nbformat": 4
 },
 "nbformat": 4,
 "nbformat_minor": 2
}
